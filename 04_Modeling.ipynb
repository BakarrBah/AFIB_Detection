{
 "cells": [
  {
   "cell_type": "code",
   "execution_count": 1,
   "metadata": {},
   "outputs": [],
   "source": [
    "import numpy as np\n",
    "import pandas as pd\n",
    "import tensorflow as tf\n",
    "from tensorflow.keras.models import Sequential\n",
    "from tensorflow.keras.layers import Dense, Activation, Conv1D, MaxPooling1D, Flatten"
   ]
  },
  {
   "cell_type": "code",
   "execution_count": null,
   "metadata": {},
   "outputs": [],
   "source": [
    "X_train = np.load('X_train.npy')\n",
    "y_train = pd.read_csv(r'y_train.csv', index_col= 0)\n",
    "input_shape = X_train.shape[1:]\n",
    "output_shape = y_train.shape[-1]"
   ]
  },
  {
   "cell_type": "code",
   "execution_count": null,
   "metadata": {},
   "outputs": [],
   "source": [
    "output_shape"
   ]
  },
  {
   "cell_type": "code",
   "execution_count": null,
   "metadata": {},
   "outputs": [],
   "source": [
    "X_train.shape"
   ]
  },
  {
   "cell_type": "code",
   "execution_count": null,
   "metadata": {},
   "outputs": [],
   "source": [
    "y_train.head()"
   ]
  },
  {
   "cell_type": "code",
   "execution_count": null,
   "metadata": {},
   "outputs": [],
   "source": [
    "y_train.shape[-1]"
   ]
  },
  {
   "cell_type": "code",
   "execution_count": null,
   "metadata": {},
   "outputs": [],
   "source": [
    "model = Sequential()\n",
    "model.add(Conv1D(filters= 32, kernel_size = 3, activation = 'relu', input_shape = input_shape))\n",
    "model.add(MaxPooling1D(3, 3))\n",
    "\n",
    "model.add(Conv1D(filters= 64, kernel_size = 3, activation = 'relu'))\n",
    "model.add(MaxPooling1D(3, 3))\n",
    "\n",
    "model.add(Conv1D(filters= 64, kernel_size = 3, activation = 'relu'))\n",
    "model.add(MaxPooling1D(3, 3))\n",
    "\n",
    "model.add(Conv1D(filters= 128, kernel_size = 3, activation = 'relu'))\n",
    "model.add(Flatten())\n",
    "\n",
    "\n",
    "model.add(Dense(3, activation= 'softmax'))\n"
   ]
  },
  {
   "cell_type": "code",
   "execution_count": null,
   "metadata": {},
   "outputs": [],
   "source": [
    "print(model.summary())"
   ]
  },
  {
   "cell_type": "code",
   "execution_count": 6,
   "metadata": {},
   "outputs": [
    {
     "ename": "NameError",
     "evalue": "name 'X_train' is not defined",
     "output_type": "error",
     "traceback": [
      "\u001b[1;31m---------------------------------------------------------------------------\u001b[0m",
      "\u001b[1;31mNameError\u001b[0m                                 Traceback (most recent call last)",
      "\u001b[1;32mc:\\Users\\Bakarr\\OneDrive\\Documents\\SpringBoard\\Assignments\\Capstone\\Capstone2\\Arrythemia_diagnosis\\04_Modeling.ipynb Cell 9\u001b[0m in \u001b[0;36m<cell line: 3>\u001b[1;34m()\u001b[0m\n\u001b[0;32m      <a href='vscode-notebook-cell:/c%3A/Users/Bakarr/OneDrive/Documents/SpringBoard/Assignments/Capstone/Capstone2/Arrythemia_diagnosis/04_Modeling.ipynb#X11sZmlsZQ%3D%3D?line=0'>1</a>\u001b[0m \u001b[39mfrom\u001b[39;00m \u001b[39msklearn\u001b[39;00m\u001b[39m.\u001b[39;00m\u001b[39mpreprocessing\u001b[39;00m \u001b[39mimport\u001b[39;00m StandardScaler\n\u001b[0;32m      <a href='vscode-notebook-cell:/c%3A/Users/Bakarr/OneDrive/Documents/SpringBoard/Assignments/Capstone/Capstone2/Arrythemia_diagnosis/04_Modeling.ipynb#X11sZmlsZQ%3D%3D?line=1'>2</a>\u001b[0m X_scaler \u001b[39m=\u001b[39m StandardScaler()\n\u001b[1;32m----> <a href='vscode-notebook-cell:/c%3A/Users/Bakarr/OneDrive/Documents/SpringBoard/Assignments/Capstone/Capstone2/Arrythemia_diagnosis/04_Modeling.ipynb#X11sZmlsZQ%3D%3D?line=2'>3</a>\u001b[0m model_x\u001b[39m=\u001b[39m X_scaler\u001b[39m.\u001b[39mfit(X_train\u001b[39m.\u001b[39mreshape(\u001b[39m-\u001b[39m\u001b[39m1\u001b[39m, X_train\u001b[39m.\u001b[39mshape[\u001b[39m-\u001b[39m\u001b[39m1\u001b[39m]))\n\u001b[0;32m      <a href='vscode-notebook-cell:/c%3A/Users/Bakarr/OneDrive/Documents/SpringBoard/Assignments/Capstone/Capstone2/Arrythemia_diagnosis/04_Modeling.ipynb#X11sZmlsZQ%3D%3D?line=3'>4</a>\u001b[0m scaled_X \u001b[39m=\u001b[39m model_x\u001b[39m.\u001b[39mtransform(X_train\u001b[39m.\u001b[39mreshape(\u001b[39m-\u001b[39m\u001b[39m1\u001b[39m, X_train\u001b[39m.\u001b[39mshape[\u001b[39m-\u001b[39m\u001b[39m1\u001b[39m]))\u001b[39m.\u001b[39mreshape(X_train\u001b[39m.\u001b[39mshape)\n\u001b[0;32m      <a href='vscode-notebook-cell:/c%3A/Users/Bakarr/OneDrive/Documents/SpringBoard/Assignments/Capstone/Capstone2/Arrythemia_diagnosis/04_Modeling.ipynb#X11sZmlsZQ%3D%3D?line=5'>6</a>\u001b[0m y_scaler \u001b[39m=\u001b[39m StandardScaler()\n",
      "\u001b[1;31mNameError\u001b[0m: name 'X_train' is not defined"
     ]
    }
   ],
   "source": [
    "from sklearn.preprocessing import StandardScaler\n",
    "X_scaler = StandardScaler()\n",
    "model_x= X_scaler.fit(X_train.reshape(-1, X_train.shape[-1]))\n",
    "scaled_X = model_x.transform(X_train.reshape(-1, X_train.shape[-1])).reshape(X_train.shape)\n",
    "\n",
    "y_scaler = StandardScaler()\n",
    "model_y= y_scaler.fit(y_train)\n",
    "scaled_y = model_y.transform(y_train)\n"
   ]
  },
  {
   "cell_type": "code",
   "execution_count": null,
   "metadata": {},
   "outputs": [],
   "source": [
    "model.compile(loss= 'categorical_crossentropy', optimizer= 'adam', metrics= ['binary_accuracy', 'Precision', 'Recall'])"
   ]
  },
  {
   "cell_type": "code",
   "execution_count": null,
   "metadata": {},
   "outputs": [],
   "source": [
    "model.fit(X_train, y_train, epochs= 15)"
   ]
  },
  {
   "cell_type": "code",
   "execution_count": null,
   "metadata": {},
   "outputs": [],
   "source": [
    "model.save('ECG_detect_model')"
   ]
  },
  {
   "cell_type": "code",
   "execution_count": 3,
   "metadata": {},
   "outputs": [],
   "source": [
    "model = tf.keras.models.load_model(\"ECG_detect_model\")"
   ]
  },
  {
   "cell_type": "code",
   "execution_count": 4,
   "metadata": {},
   "outputs": [],
   "source": [
    "X_test = np.load('X_test.npy')\n",
    "y_test = pd.read_csv(r'y_test.csv', index_col= 0)\n",
    "y_test_arr = y_test.to_numpy()"
   ]
  },
  {
   "cell_type": "code",
   "execution_count": 5,
   "metadata": {},
   "outputs": [
    {
     "ename": "NameError",
     "evalue": "name 'StandardScaler' is not defined",
     "output_type": "error",
     "traceback": [
      "\u001b[1;31m---------------------------------------------------------------------------\u001b[0m",
      "\u001b[1;31mNameError\u001b[0m                                 Traceback (most recent call last)",
      "\u001b[1;32mc:\\Users\\Bakarr\\OneDrive\\Documents\\SpringBoard\\Assignments\\Capstone\\Capstone2\\Arrythemia_diagnosis\\04_Modeling.ipynb Cell 15\u001b[0m in \u001b[0;36m<cell line: 1>\u001b[1;34m()\u001b[0m\n\u001b[1;32m----> <a href='vscode-notebook-cell:/c%3A/Users/Bakarr/OneDrive/Documents/SpringBoard/Assignments/Capstone/Capstone2/Arrythemia_diagnosis/04_Modeling.ipynb#X16sZmlsZQ%3D%3D?line=0'>1</a>\u001b[0m X_scaler \u001b[39m=\u001b[39m StandardScaler()\n\u001b[0;32m      <a href='vscode-notebook-cell:/c%3A/Users/Bakarr/OneDrive/Documents/SpringBoard/Assignments/Capstone/Capstone2/Arrythemia_diagnosis/04_Modeling.ipynb#X16sZmlsZQ%3D%3D?line=1'>2</a>\u001b[0m model_x\u001b[39m=\u001b[39m X_scaler\u001b[39m.\u001b[39mfit(X_train\u001b[39m.\u001b[39mreshape(\u001b[39m-\u001b[39m\u001b[39m1\u001b[39m, X_train\u001b[39m.\u001b[39mshape[\u001b[39m-\u001b[39m\u001b[39m1\u001b[39m]))\n\u001b[0;32m      <a href='vscode-notebook-cell:/c%3A/Users/Bakarr/OneDrive/Documents/SpringBoard/Assignments/Capstone/Capstone2/Arrythemia_diagnosis/04_Modeling.ipynb#X16sZmlsZQ%3D%3D?line=2'>3</a>\u001b[0m scaled_X \u001b[39m=\u001b[39m model_x\u001b[39m.\u001b[39mtransform(X_train\u001b[39m.\u001b[39mreshape(\u001b[39m-\u001b[39m\u001b[39m1\u001b[39m, X_train\u001b[39m.\u001b[39mshape[\u001b[39m-\u001b[39m\u001b[39m1\u001b[39m]))\u001b[39m.\u001b[39mreshape(X_train\u001b[39m.\u001b[39mshape)\n",
      "\u001b[1;31mNameError\u001b[0m: name 'StandardScaler' is not defined"
     ]
    }
   ],
   "source": [
    "X_scaler = StandardScaler()\n",
    "model_x= X_scaler.fit(X_train.reshape(-1, X_train.shape[-1]))\n",
    "scaled_X = model_x.transform(X_train.reshape(-1, X_train.shape[-1])).reshape(X_train.shape)"
   ]
  },
  {
   "cell_type": "code",
   "execution_count": null,
   "metadata": {},
   "outputs": [],
   "source": [
    "Test = X_test"
   ]
  },
  {
   "cell_type": "code",
   "execution_count": null,
   "metadata": {},
   "outputs": [],
   "source": [
    "prediction = model.predict(Test)"
   ]
  },
  {
   "cell_type": "code",
   "execution_count": null,
   "metadata": {},
   "outputs": [],
   "source": [
    "y_pred= prediction.argmax(axis= 1)"
   ]
  },
  {
   "cell_type": "code",
   "execution_count": null,
   "metadata": {},
   "outputs": [],
   "source": [
    "y_tru= y_test_arr.argmax(axis= 1)"
   ]
  },
  {
   "cell_type": "code",
   "execution_count": null,
   "metadata": {},
   "outputs": [],
   "source": [
    "from sklearn.metrics import confusion_matrix, ConfusionMatrixDisplay\n"
   ]
  },
  {
   "cell_type": "code",
   "execution_count": null,
   "metadata": {},
   "outputs": [],
   "source": [
    "cm= confusion_matrix(y_true= y_tru, y_pred= y_pred)\n",
    "disp= ConfusionMatrixDisplay (cm)\n",
    "disp.plot()"
   ]
  },
  {
   "cell_type": "code",
   "execution_count": null,
   "metadata": {},
   "outputs": [],
   "source": []
  }
 ],
 "metadata": {
  "kernelspec": {
   "display_name": "springboard",
   "language": "python",
   "name": "python3"
  },
  "language_info": {
   "codemirror_mode": {
    "name": "ipython",
    "version": 3
   },
   "file_extension": ".py",
   "mimetype": "text/x-python",
   "name": "python",
   "nbconvert_exporter": "python",
   "pygments_lexer": "ipython3",
   "version": "3.10.4"
  },
  "orig_nbformat": 4,
  "vscode": {
   "interpreter": {
    "hash": "091bacdc166c008f6c19d8f002a3359c8922f9c37879f1ae56e7b7e4da14a871"
   }
  }
 },
 "nbformat": 4,
 "nbformat_minor": 2
}
